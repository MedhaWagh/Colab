{
  "nbformat": 4,
  "nbformat_minor": 0,
  "metadata": {
    "colab": {
      "name": "Copy of kernel_svm.ipynb",
      "provenance": [],
      "collapsed_sections": [],
      "toc_visible": true,
      "machine_shape": "hm",
      "include_colab_link": true
    },
    "kernelspec": {
      "name": "python3",
      "display_name": "Python 3"
    }
  },
  "cells": [
    {
      "cell_type": "markdown",
      "metadata": {
        "id": "view-in-github",
        "colab_type": "text"
      },
      "source": [
        "<a href=\"https://colab.research.google.com/github/MedhaWagh/Colab/blob/master/Customer_Churn.ipynb\" target=\"_parent\"><img src=\"https://colab.research.google.com/assets/colab-badge.svg\" alt=\"Open In Colab\"/></a>"
      ]
    },
    {
      "cell_type": "markdown",
      "metadata": {
        "id": "0MRC0e0KhQ0S",
        "colab_type": "text"
      },
      "source": [
        "# Kernel SVM"
      ]
    },
    {
      "cell_type": "markdown",
      "metadata": {
        "id": "LWd1UlMnhT2s",
        "colab_type": "text"
      },
      "source": [
        "## Importing the libraries"
      ]
    },
    {
      "cell_type": "code",
      "metadata": {
        "id": "YvGPUQaHhXfL",
        "colab_type": "code",
        "colab": {}
      },
      "source": [
        "import numpy as np\n",
        "import matplotlib.pyplot as plt\n",
        "import pandas as pd"
      ],
      "execution_count": 0,
      "outputs": []
    },
    {
      "cell_type": "markdown",
      "metadata": {
        "id": "K1VMqkGvhc3-",
        "colab_type": "text"
      },
      "source": [
        "## Importing the dataset"
      ]
    },
    {
      "cell_type": "code",
      "metadata": {
        "id": "M52QDmyzhh9s",
        "colab_type": "code",
        "colab": {}
      },
      "source": [
        "dataset = pd.read_csv('data.csv')\n"
      ],
      "execution_count": 0,
      "outputs": []
    },
    {
      "cell_type": "code",
      "metadata": {
        "id": "GpwWs2fc--s2",
        "colab_type": "code",
        "outputId": "a02decf0-b6a5-4b1c-dc7f-b5bf85e7125d",
        "colab": {
          "base_uri": "https://localhost:8080/",
          "height": 34
        }
      },
      "source": [
        "y = dataset.iloc[:, -1].values\n",
        "print(y)"
      ],
      "execution_count": 0,
      "outputs": [
        {
          "output_type": "stream",
          "text": [
            "[0 0 0 ... 0 0 0]\n"
          ],
          "name": "stdout"
        }
      ]
    },
    {
      "cell_type": "code",
      "metadata": {
        "id": "99Li-aNksEwA",
        "colab_type": "code",
        "outputId": "88bc43fd-59af-46c4-ea7a-d8e37dcbc2b9",
        "colab": {
          "base_uri": "https://localhost:8080/",
          "height": 168
        }
      },
      "source": [
        "for col in dataset.columns: print(col, ':', len(dataset[col].unique()), 'labels')"
      ],
      "execution_count": 0,
      "outputs": [
        {
          "output_type": "stream",
          "text": [
            "recency : 12 labels\n",
            "history : 34833 labels\n",
            "used_discount : 2 labels\n",
            "used_bogo : 2 labels\n",
            "zip_code : 3 labels\n",
            "is_referral : 2 labels\n",
            "channel : 3 labels\n",
            "offer : 3 labels\n",
            "conversion : 2 labels\n"
          ],
          "name": "stdout"
        }
      ]
    },
    {
      "cell_type": "markdown",
      "metadata": {
        "id": "iP-4WCAT942-",
        "colab_type": "text"
      },
      "source": [
        "##Encoding Categorical Variables"
      ]
    },
    {
      "cell_type": "code",
      "metadata": {
        "id": "z9CBHePg9-C0",
        "colab_type": "code",
        "outputId": "24f58086-528a-4730-e67c-c674c4e05743",
        "colab": {
          "base_uri": "https://localhost:8080/",
          "height": 455
        }
      },
      "source": [
        "import copy\n",
        "\n",
        "dataset1 = dataset.copy()\n",
        "X = dataset1.drop([\"conversion\"], inplace = True, axis = 1,\n",
        "                  )\n",
        "X = pd.get_dummies(dataset1, columns=['zip_code', 'channel', 'offer'], prefix = ['ZC', 'Cnl', 'Ofr'])\n",
        "\n",
        "pd.DataFrame.from_records(X)"
      ],
      "execution_count": 0,
      "outputs": [
        {
          "output_type": "execute_result",
          "data": {
            "text/html": [
              "<div>\n",
              "<style scoped>\n",
              "    .dataframe tbody tr th:only-of-type {\n",
              "        vertical-align: middle;\n",
              "    }\n",
              "\n",
              "    .dataframe tbody tr th {\n",
              "        vertical-align: top;\n",
              "    }\n",
              "\n",
              "    .dataframe thead th {\n",
              "        text-align: right;\n",
              "    }\n",
              "</style>\n",
              "<table border=\"1\" class=\"dataframe\">\n",
              "  <thead>\n",
              "    <tr style=\"text-align: right;\">\n",
              "      <th></th>\n",
              "      <th>recency</th>\n",
              "      <th>history</th>\n",
              "      <th>used_discount</th>\n",
              "      <th>used_bogo</th>\n",
              "      <th>is_referral</th>\n",
              "      <th>ZC_Rural</th>\n",
              "      <th>ZC_Surburban</th>\n",
              "      <th>ZC_Urban</th>\n",
              "      <th>Cnl_Multichannel</th>\n",
              "      <th>Cnl_Phone</th>\n",
              "      <th>Cnl_Web</th>\n",
              "      <th>Ofr_Buy One Get One</th>\n",
              "      <th>Ofr_Discount</th>\n",
              "      <th>Ofr_No Offer</th>\n",
              "    </tr>\n",
              "  </thead>\n",
              "  <tbody>\n",
              "    <tr>\n",
              "      <th>0</th>\n",
              "      <td>10</td>\n",
              "      <td>142.44</td>\n",
              "      <td>1</td>\n",
              "      <td>0</td>\n",
              "      <td>0</td>\n",
              "      <td>0</td>\n",
              "      <td>1</td>\n",
              "      <td>0</td>\n",
              "      <td>0</td>\n",
              "      <td>1</td>\n",
              "      <td>0</td>\n",
              "      <td>1</td>\n",
              "      <td>0</td>\n",
              "      <td>0</td>\n",
              "    </tr>\n",
              "    <tr>\n",
              "      <th>1</th>\n",
              "      <td>6</td>\n",
              "      <td>329.08</td>\n",
              "      <td>1</td>\n",
              "      <td>1</td>\n",
              "      <td>1</td>\n",
              "      <td>1</td>\n",
              "      <td>0</td>\n",
              "      <td>0</td>\n",
              "      <td>0</td>\n",
              "      <td>0</td>\n",
              "      <td>1</td>\n",
              "      <td>0</td>\n",
              "      <td>0</td>\n",
              "      <td>1</td>\n",
              "    </tr>\n",
              "    <tr>\n",
              "      <th>2</th>\n",
              "      <td>7</td>\n",
              "      <td>180.65</td>\n",
              "      <td>0</td>\n",
              "      <td>1</td>\n",
              "      <td>1</td>\n",
              "      <td>0</td>\n",
              "      <td>1</td>\n",
              "      <td>0</td>\n",
              "      <td>0</td>\n",
              "      <td>0</td>\n",
              "      <td>1</td>\n",
              "      <td>1</td>\n",
              "      <td>0</td>\n",
              "      <td>0</td>\n",
              "    </tr>\n",
              "    <tr>\n",
              "      <th>3</th>\n",
              "      <td>9</td>\n",
              "      <td>675.83</td>\n",
              "      <td>1</td>\n",
              "      <td>0</td>\n",
              "      <td>1</td>\n",
              "      <td>1</td>\n",
              "      <td>0</td>\n",
              "      <td>0</td>\n",
              "      <td>0</td>\n",
              "      <td>0</td>\n",
              "      <td>1</td>\n",
              "      <td>0</td>\n",
              "      <td>1</td>\n",
              "      <td>0</td>\n",
              "    </tr>\n",
              "    <tr>\n",
              "      <th>4</th>\n",
              "      <td>2</td>\n",
              "      <td>45.34</td>\n",
              "      <td>1</td>\n",
              "      <td>0</td>\n",
              "      <td>0</td>\n",
              "      <td>0</td>\n",
              "      <td>0</td>\n",
              "      <td>1</td>\n",
              "      <td>0</td>\n",
              "      <td>0</td>\n",
              "      <td>1</td>\n",
              "      <td>1</td>\n",
              "      <td>0</td>\n",
              "      <td>0</td>\n",
              "    </tr>\n",
              "    <tr>\n",
              "      <th>...</th>\n",
              "      <td>...</td>\n",
              "      <td>...</td>\n",
              "      <td>...</td>\n",
              "      <td>...</td>\n",
              "      <td>...</td>\n",
              "      <td>...</td>\n",
              "      <td>...</td>\n",
              "      <td>...</td>\n",
              "      <td>...</td>\n",
              "      <td>...</td>\n",
              "      <td>...</td>\n",
              "      <td>...</td>\n",
              "      <td>...</td>\n",
              "      <td>...</td>\n",
              "    </tr>\n",
              "    <tr>\n",
              "      <th>63995</th>\n",
              "      <td>10</td>\n",
              "      <td>105.54</td>\n",
              "      <td>1</td>\n",
              "      <td>0</td>\n",
              "      <td>0</td>\n",
              "      <td>0</td>\n",
              "      <td>0</td>\n",
              "      <td>1</td>\n",
              "      <td>0</td>\n",
              "      <td>0</td>\n",
              "      <td>1</td>\n",
              "      <td>0</td>\n",
              "      <td>1</td>\n",
              "      <td>0</td>\n",
              "    </tr>\n",
              "    <tr>\n",
              "      <th>63996</th>\n",
              "      <td>5</td>\n",
              "      <td>38.91</td>\n",
              "      <td>0</td>\n",
              "      <td>1</td>\n",
              "      <td>1</td>\n",
              "      <td>0</td>\n",
              "      <td>0</td>\n",
              "      <td>1</td>\n",
              "      <td>0</td>\n",
              "      <td>1</td>\n",
              "      <td>0</td>\n",
              "      <td>0</td>\n",
              "      <td>1</td>\n",
              "      <td>0</td>\n",
              "    </tr>\n",
              "    <tr>\n",
              "      <th>63997</th>\n",
              "      <td>6</td>\n",
              "      <td>29.99</td>\n",
              "      <td>1</td>\n",
              "      <td>0</td>\n",
              "      <td>1</td>\n",
              "      <td>0</td>\n",
              "      <td>0</td>\n",
              "      <td>1</td>\n",
              "      <td>0</td>\n",
              "      <td>1</td>\n",
              "      <td>0</td>\n",
              "      <td>0</td>\n",
              "      <td>1</td>\n",
              "      <td>0</td>\n",
              "    </tr>\n",
              "    <tr>\n",
              "      <th>63998</th>\n",
              "      <td>1</td>\n",
              "      <td>552.94</td>\n",
              "      <td>1</td>\n",
              "      <td>0</td>\n",
              "      <td>1</td>\n",
              "      <td>0</td>\n",
              "      <td>1</td>\n",
              "      <td>0</td>\n",
              "      <td>1</td>\n",
              "      <td>0</td>\n",
              "      <td>0</td>\n",
              "      <td>1</td>\n",
              "      <td>0</td>\n",
              "      <td>0</td>\n",
              "    </tr>\n",
              "    <tr>\n",
              "      <th>63999</th>\n",
              "      <td>1</td>\n",
              "      <td>472.82</td>\n",
              "      <td>0</td>\n",
              "      <td>1</td>\n",
              "      <td>0</td>\n",
              "      <td>0</td>\n",
              "      <td>1</td>\n",
              "      <td>0</td>\n",
              "      <td>0</td>\n",
              "      <td>0</td>\n",
              "      <td>1</td>\n",
              "      <td>0</td>\n",
              "      <td>1</td>\n",
              "      <td>0</td>\n",
              "    </tr>\n",
              "  </tbody>\n",
              "</table>\n",
              "<p>64000 rows × 14 columns</p>\n",
              "</div>"
            ],
            "text/plain": [
              "       recency  history  ...  Ofr_Discount  Ofr_No Offer\n",
              "0           10   142.44  ...             0             0\n",
              "1            6   329.08  ...             0             1\n",
              "2            7   180.65  ...             0             0\n",
              "3            9   675.83  ...             1             0\n",
              "4            2    45.34  ...             0             0\n",
              "...        ...      ...  ...           ...           ...\n",
              "63995       10   105.54  ...             1             0\n",
              "63996        5    38.91  ...             1             0\n",
              "63997        6    29.99  ...             1             0\n",
              "63998        1   552.94  ...             0             0\n",
              "63999        1   472.82  ...             1             0\n",
              "\n",
              "[64000 rows x 14 columns]"
            ]
          },
          "metadata": {
            "tags": []
          },
          "execution_count": 216
        }
      ]
    },
    {
      "cell_type": "code",
      "metadata": {
        "id": "_uSQdGDM6LaH",
        "colab_type": "code",
        "outputId": "74e9cf62-275c-4056-f401-2a44cec0e30d",
        "colab": {
          "base_uri": "https://localhost:8080/",
          "height": 402
        }
      },
      "source": [
        "X= X.iloc[:,:].values\n",
        "y = dataset.iloc[:, -1].values\n",
        "pd.DataFrame.from_records(X)"
      ],
      "execution_count": 0,
      "outputs": [
        {
          "output_type": "execute_result",
          "data": {
            "text/html": [
              "<div>\n",
              "<style scoped>\n",
              "    .dataframe tbody tr th:only-of-type {\n",
              "        vertical-align: middle;\n",
              "    }\n",
              "\n",
              "    .dataframe tbody tr th {\n",
              "        vertical-align: top;\n",
              "    }\n",
              "\n",
              "    .dataframe thead th {\n",
              "        text-align: right;\n",
              "    }\n",
              "</style>\n",
              "<table border=\"1\" class=\"dataframe\">\n",
              "  <thead>\n",
              "    <tr style=\"text-align: right;\">\n",
              "      <th></th>\n",
              "      <th>0</th>\n",
              "      <th>1</th>\n",
              "      <th>2</th>\n",
              "      <th>3</th>\n",
              "      <th>4</th>\n",
              "      <th>5</th>\n",
              "      <th>6</th>\n",
              "      <th>7</th>\n",
              "      <th>8</th>\n",
              "      <th>9</th>\n",
              "      <th>10</th>\n",
              "      <th>11</th>\n",
              "      <th>12</th>\n",
              "      <th>13</th>\n",
              "    </tr>\n",
              "  </thead>\n",
              "  <tbody>\n",
              "    <tr>\n",
              "      <th>0</th>\n",
              "      <td>10.0</td>\n",
              "      <td>142.44</td>\n",
              "      <td>1.0</td>\n",
              "      <td>0.0</td>\n",
              "      <td>0.0</td>\n",
              "      <td>0.0</td>\n",
              "      <td>1.0</td>\n",
              "      <td>0.0</td>\n",
              "      <td>0.0</td>\n",
              "      <td>1.0</td>\n",
              "      <td>0.0</td>\n",
              "      <td>1.0</td>\n",
              "      <td>0.0</td>\n",
              "      <td>0.0</td>\n",
              "    </tr>\n",
              "    <tr>\n",
              "      <th>1</th>\n",
              "      <td>6.0</td>\n",
              "      <td>329.08</td>\n",
              "      <td>1.0</td>\n",
              "      <td>1.0</td>\n",
              "      <td>1.0</td>\n",
              "      <td>1.0</td>\n",
              "      <td>0.0</td>\n",
              "      <td>0.0</td>\n",
              "      <td>0.0</td>\n",
              "      <td>0.0</td>\n",
              "      <td>1.0</td>\n",
              "      <td>0.0</td>\n",
              "      <td>0.0</td>\n",
              "      <td>1.0</td>\n",
              "    </tr>\n",
              "    <tr>\n",
              "      <th>2</th>\n",
              "      <td>7.0</td>\n",
              "      <td>180.65</td>\n",
              "      <td>0.0</td>\n",
              "      <td>1.0</td>\n",
              "      <td>1.0</td>\n",
              "      <td>0.0</td>\n",
              "      <td>1.0</td>\n",
              "      <td>0.0</td>\n",
              "      <td>0.0</td>\n",
              "      <td>0.0</td>\n",
              "      <td>1.0</td>\n",
              "      <td>1.0</td>\n",
              "      <td>0.0</td>\n",
              "      <td>0.0</td>\n",
              "    </tr>\n",
              "    <tr>\n",
              "      <th>3</th>\n",
              "      <td>9.0</td>\n",
              "      <td>675.83</td>\n",
              "      <td>1.0</td>\n",
              "      <td>0.0</td>\n",
              "      <td>1.0</td>\n",
              "      <td>1.0</td>\n",
              "      <td>0.0</td>\n",
              "      <td>0.0</td>\n",
              "      <td>0.0</td>\n",
              "      <td>0.0</td>\n",
              "      <td>1.0</td>\n",
              "      <td>0.0</td>\n",
              "      <td>1.0</td>\n",
              "      <td>0.0</td>\n",
              "    </tr>\n",
              "    <tr>\n",
              "      <th>4</th>\n",
              "      <td>2.0</td>\n",
              "      <td>45.34</td>\n",
              "      <td>1.0</td>\n",
              "      <td>0.0</td>\n",
              "      <td>0.0</td>\n",
              "      <td>0.0</td>\n",
              "      <td>0.0</td>\n",
              "      <td>1.0</td>\n",
              "      <td>0.0</td>\n",
              "      <td>0.0</td>\n",
              "      <td>1.0</td>\n",
              "      <td>1.0</td>\n",
              "      <td>0.0</td>\n",
              "      <td>0.0</td>\n",
              "    </tr>\n",
              "    <tr>\n",
              "      <th>...</th>\n",
              "      <td>...</td>\n",
              "      <td>...</td>\n",
              "      <td>...</td>\n",
              "      <td>...</td>\n",
              "      <td>...</td>\n",
              "      <td>...</td>\n",
              "      <td>...</td>\n",
              "      <td>...</td>\n",
              "      <td>...</td>\n",
              "      <td>...</td>\n",
              "      <td>...</td>\n",
              "      <td>...</td>\n",
              "      <td>...</td>\n",
              "      <td>...</td>\n",
              "    </tr>\n",
              "    <tr>\n",
              "      <th>63995</th>\n",
              "      <td>10.0</td>\n",
              "      <td>105.54</td>\n",
              "      <td>1.0</td>\n",
              "      <td>0.0</td>\n",
              "      <td>0.0</td>\n",
              "      <td>0.0</td>\n",
              "      <td>0.0</td>\n",
              "      <td>1.0</td>\n",
              "      <td>0.0</td>\n",
              "      <td>0.0</td>\n",
              "      <td>1.0</td>\n",
              "      <td>0.0</td>\n",
              "      <td>1.0</td>\n",
              "      <td>0.0</td>\n",
              "    </tr>\n",
              "    <tr>\n",
              "      <th>63996</th>\n",
              "      <td>5.0</td>\n",
              "      <td>38.91</td>\n",
              "      <td>0.0</td>\n",
              "      <td>1.0</td>\n",
              "      <td>1.0</td>\n",
              "      <td>0.0</td>\n",
              "      <td>0.0</td>\n",
              "      <td>1.0</td>\n",
              "      <td>0.0</td>\n",
              "      <td>1.0</td>\n",
              "      <td>0.0</td>\n",
              "      <td>0.0</td>\n",
              "      <td>1.0</td>\n",
              "      <td>0.0</td>\n",
              "    </tr>\n",
              "    <tr>\n",
              "      <th>63997</th>\n",
              "      <td>6.0</td>\n",
              "      <td>29.99</td>\n",
              "      <td>1.0</td>\n",
              "      <td>0.0</td>\n",
              "      <td>1.0</td>\n",
              "      <td>0.0</td>\n",
              "      <td>0.0</td>\n",
              "      <td>1.0</td>\n",
              "      <td>0.0</td>\n",
              "      <td>1.0</td>\n",
              "      <td>0.0</td>\n",
              "      <td>0.0</td>\n",
              "      <td>1.0</td>\n",
              "      <td>0.0</td>\n",
              "    </tr>\n",
              "    <tr>\n",
              "      <th>63998</th>\n",
              "      <td>1.0</td>\n",
              "      <td>552.94</td>\n",
              "      <td>1.0</td>\n",
              "      <td>0.0</td>\n",
              "      <td>1.0</td>\n",
              "      <td>0.0</td>\n",
              "      <td>1.0</td>\n",
              "      <td>0.0</td>\n",
              "      <td>1.0</td>\n",
              "      <td>0.0</td>\n",
              "      <td>0.0</td>\n",
              "      <td>1.0</td>\n",
              "      <td>0.0</td>\n",
              "      <td>0.0</td>\n",
              "    </tr>\n",
              "    <tr>\n",
              "      <th>63999</th>\n",
              "      <td>1.0</td>\n",
              "      <td>472.82</td>\n",
              "      <td>0.0</td>\n",
              "      <td>1.0</td>\n",
              "      <td>0.0</td>\n",
              "      <td>0.0</td>\n",
              "      <td>1.0</td>\n",
              "      <td>0.0</td>\n",
              "      <td>0.0</td>\n",
              "      <td>0.0</td>\n",
              "      <td>1.0</td>\n",
              "      <td>0.0</td>\n",
              "      <td>1.0</td>\n",
              "      <td>0.0</td>\n",
              "    </tr>\n",
              "  </tbody>\n",
              "</table>\n",
              "<p>64000 rows × 14 columns</p>\n",
              "</div>"
            ],
            "text/plain": [
              "          0       1    2    3    4    5    6    7    8    9   10   11   12   13\n",
              "0      10.0  142.44  1.0  0.0  0.0  0.0  1.0  0.0  0.0  1.0  0.0  1.0  0.0  0.0\n",
              "1       6.0  329.08  1.0  1.0  1.0  1.0  0.0  0.0  0.0  0.0  1.0  0.0  0.0  1.0\n",
              "2       7.0  180.65  0.0  1.0  1.0  0.0  1.0  0.0  0.0  0.0  1.0  1.0  0.0  0.0\n",
              "3       9.0  675.83  1.0  0.0  1.0  1.0  0.0  0.0  0.0  0.0  1.0  0.0  1.0  0.0\n",
              "4       2.0   45.34  1.0  0.0  0.0  0.0  0.0  1.0  0.0  0.0  1.0  1.0  0.0  0.0\n",
              "...     ...     ...  ...  ...  ...  ...  ...  ...  ...  ...  ...  ...  ...  ...\n",
              "63995  10.0  105.54  1.0  0.0  0.0  0.0  0.0  1.0  0.0  0.0  1.0  0.0  1.0  0.0\n",
              "63996   5.0   38.91  0.0  1.0  1.0  0.0  0.0  1.0  0.0  1.0  0.0  0.0  1.0  0.0\n",
              "63997   6.0   29.99  1.0  0.0  1.0  0.0  0.0  1.0  0.0  1.0  0.0  0.0  1.0  0.0\n",
              "63998   1.0  552.94  1.0  0.0  1.0  0.0  1.0  0.0  1.0  0.0  0.0  1.0  0.0  0.0\n",
              "63999   1.0  472.82  0.0  1.0  0.0  0.0  1.0  0.0  0.0  0.0  1.0  0.0  1.0  0.0\n",
              "\n",
              "[64000 rows x 14 columns]"
            ]
          },
          "metadata": {
            "tags": []
          },
          "execution_count": 217
        }
      ]
    },
    {
      "cell_type": "markdown",
      "metadata": {
        "id": "M6nyJYpA724i",
        "colab_type": "text"
      },
      "source": [
        "##Taking care of Missing Value if any"
      ]
    },
    {
      "cell_type": "code",
      "metadata": {
        "id": "BOXs1wPZ8MAl",
        "colab_type": "code",
        "colab": {}
      },
      "source": [
        "from sklearn.impute import SimpleImputer\n",
        "imputer = SimpleImputer(missing_values=np.nan, strategy='mean')\n",
        "imputer.fit(X[:, 0:2])\n",
        "X[:, 0:2] = imputer.transform(X[:, 0:2])"
      ],
      "execution_count": 0,
      "outputs": []
    },
    {
      "cell_type": "markdown",
      "metadata": {
        "id": "YvxIPVyMhmKp",
        "colab_type": "text"
      },
      "source": [
        "## Splitting the dataset into the Training set and Test set"
      ]
    },
    {
      "cell_type": "code",
      "metadata": {
        "id": "AVzJWAXIhxoC",
        "colab_type": "code",
        "colab": {}
      },
      "source": [
        "from sklearn.model_selection import train_test_split\n",
        "X_train, X_test, y_train, y_test = train_test_split(X, y, test_size = 0.25, random_state = 0)"
      ],
      "execution_count": 0,
      "outputs": []
    },
    {
      "cell_type": "markdown",
      "metadata": {
        "id": "kW3c7UYih0hT",
        "colab_type": "text"
      },
      "source": [
        "## Feature Scaling"
      ]
    },
    {
      "cell_type": "code",
      "metadata": {
        "id": "9fQlDPKCh8sc",
        "colab_type": "code",
        "colab": {}
      },
      "source": [
        "from sklearn.preprocessing import StandardScaler\n",
        "sc = StandardScaler()\n",
        "X_train = sc.fit_transform(X_train)\n",
        "X_test = sc.transform(X_test)"
      ],
      "execution_count": 0,
      "outputs": []
    },
    {
      "cell_type": "code",
      "metadata": {
        "id": "y5Z9MluBGLrO",
        "colab_type": "code",
        "outputId": "a928d392-7adb-46a4-e414-6d85ea3e8671",
        "colab": {
          "base_uri": "https://localhost:8080/",
          "height": 422
        }
      },
      "source": [
        "pd.DataFrame.from_records(X_train)"
      ],
      "execution_count": 0,
      "outputs": [
        {
          "output_type": "execute_result",
          "data": {
            "text/html": [
              "<div>\n",
              "<style scoped>\n",
              "    .dataframe tbody tr th:only-of-type {\n",
              "        vertical-align: middle;\n",
              "    }\n",
              "\n",
              "    .dataframe tbody tr th {\n",
              "        vertical-align: top;\n",
              "    }\n",
              "\n",
              "    .dataframe thead th {\n",
              "        text-align: right;\n",
              "    }\n",
              "</style>\n",
              "<table border=\"1\" class=\"dataframe\">\n",
              "  <thead>\n",
              "    <tr style=\"text-align: right;\">\n",
              "      <th></th>\n",
              "      <th>0</th>\n",
              "      <th>1</th>\n",
              "      <th>2</th>\n",
              "      <th>3</th>\n",
              "      <th>4</th>\n",
              "      <th>5</th>\n",
              "      <th>6</th>\n",
              "      <th>7</th>\n",
              "      <th>8</th>\n",
              "      <th>9</th>\n",
              "      <th>10</th>\n",
              "      <th>11</th>\n",
              "      <th>12</th>\n",
              "      <th>13</th>\n",
              "    </tr>\n",
              "  </thead>\n",
              "  <tbody>\n",
              "    <tr>\n",
              "      <th>0</th>\n",
              "      <td>0.635527</td>\n",
              "      <td>-0.694042</td>\n",
              "      <td>0.905982</td>\n",
              "      <td>-1.106193</td>\n",
              "      <td>0.999958</td>\n",
              "      <td>-0.419500</td>\n",
              "      <td>1.105588</td>\n",
              "      <td>-0.817135</td>\n",
              "      <td>-0.371929</td>\n",
              "      <td>1.131736</td>\n",
              "      <td>-0.886480</td>\n",
              "      <td>1.415474</td>\n",
              "      <td>-0.706941</td>\n",
              "      <td>-0.707902</td>\n",
              "    </tr>\n",
              "    <tr>\n",
              "      <th>1</th>\n",
              "      <td>-0.788331</td>\n",
              "      <td>0.595313</td>\n",
              "      <td>0.905982</td>\n",
              "      <td>-1.106193</td>\n",
              "      <td>0.999958</td>\n",
              "      <td>-0.419500</td>\n",
              "      <td>1.105588</td>\n",
              "      <td>-0.817135</td>\n",
              "      <td>-0.371929</td>\n",
              "      <td>-0.883598</td>\n",
              "      <td>1.128057</td>\n",
              "      <td>-0.706477</td>\n",
              "      <td>1.414545</td>\n",
              "      <td>-0.707902</td>\n",
              "    </tr>\n",
              "    <tr>\n",
              "      <th>2</th>\n",
              "      <td>-0.503559</td>\n",
              "      <td>4.142097</td>\n",
              "      <td>0.905982</td>\n",
              "      <td>0.904001</td>\n",
              "      <td>0.999958</td>\n",
              "      <td>2.383788</td>\n",
              "      <td>-0.904496</td>\n",
              "      <td>-0.817135</td>\n",
              "      <td>-0.371929</td>\n",
              "      <td>1.131736</td>\n",
              "      <td>-0.886480</td>\n",
              "      <td>-0.706477</td>\n",
              "      <td>1.414545</td>\n",
              "      <td>-0.707902</td>\n",
              "    </tr>\n",
              "    <tr>\n",
              "      <th>3</th>\n",
              "      <td>1.205071</td>\n",
              "      <td>-0.323173</td>\n",
              "      <td>-1.103775</td>\n",
              "      <td>0.904001</td>\n",
              "      <td>0.999958</td>\n",
              "      <td>-0.419500</td>\n",
              "      <td>1.105588</td>\n",
              "      <td>-0.817135</td>\n",
              "      <td>-0.371929</td>\n",
              "      <td>-0.883598</td>\n",
              "      <td>1.128057</td>\n",
              "      <td>-0.706477</td>\n",
              "      <td>-0.706941</td>\n",
              "      <td>1.412624</td>\n",
              "    </tr>\n",
              "    <tr>\n",
              "      <th>4</th>\n",
              "      <td>-1.357875</td>\n",
              "      <td>0.131484</td>\n",
              "      <td>0.905982</td>\n",
              "      <td>-1.106193</td>\n",
              "      <td>-1.000042</td>\n",
              "      <td>-0.419500</td>\n",
              "      <td>-0.904496</td>\n",
              "      <td>1.223789</td>\n",
              "      <td>-0.371929</td>\n",
              "      <td>1.131736</td>\n",
              "      <td>-0.886480</td>\n",
              "      <td>-0.706477</td>\n",
              "      <td>-0.706941</td>\n",
              "      <td>1.412624</td>\n",
              "    </tr>\n",
              "    <tr>\n",
              "      <th>...</th>\n",
              "      <td>...</td>\n",
              "      <td>...</td>\n",
              "      <td>...</td>\n",
              "      <td>...</td>\n",
              "      <td>...</td>\n",
              "      <td>...</td>\n",
              "      <td>...</td>\n",
              "      <td>...</td>\n",
              "      <td>...</td>\n",
              "      <td>...</td>\n",
              "      <td>...</td>\n",
              "      <td>...</td>\n",
              "      <td>...</td>\n",
              "      <td>...</td>\n",
              "    </tr>\n",
              "    <tr>\n",
              "      <th>47995</th>\n",
              "      <td>0.920299</td>\n",
              "      <td>-0.807988</td>\n",
              "      <td>0.905982</td>\n",
              "      <td>-1.106193</td>\n",
              "      <td>-1.000042</td>\n",
              "      <td>-0.419500</td>\n",
              "      <td>-0.904496</td>\n",
              "      <td>1.223789</td>\n",
              "      <td>-0.371929</td>\n",
              "      <td>1.131736</td>\n",
              "      <td>-0.886480</td>\n",
              "      <td>-0.706477</td>\n",
              "      <td>-0.706941</td>\n",
              "      <td>1.412624</td>\n",
              "    </tr>\n",
              "    <tr>\n",
              "      <th>47996</th>\n",
              "      <td>-0.218788</td>\n",
              "      <td>0.087608</td>\n",
              "      <td>0.905982</td>\n",
              "      <td>0.904001</td>\n",
              "      <td>-1.000042</td>\n",
              "      <td>-0.419500</td>\n",
              "      <td>-0.904496</td>\n",
              "      <td>1.223789</td>\n",
              "      <td>2.688688</td>\n",
              "      <td>-0.883598</td>\n",
              "      <td>-0.886480</td>\n",
              "      <td>1.415474</td>\n",
              "      <td>-0.706941</td>\n",
              "      <td>-0.707902</td>\n",
              "    </tr>\n",
              "    <tr>\n",
              "      <th>47997</th>\n",
              "      <td>1.774614</td>\n",
              "      <td>0.688934</td>\n",
              "      <td>-1.103775</td>\n",
              "      <td>0.904001</td>\n",
              "      <td>0.999958</td>\n",
              "      <td>-0.419500</td>\n",
              "      <td>-0.904496</td>\n",
              "      <td>1.223789</td>\n",
              "      <td>2.688688</td>\n",
              "      <td>-0.883598</td>\n",
              "      <td>-0.886480</td>\n",
              "      <td>1.415474</td>\n",
              "      <td>-0.706941</td>\n",
              "      <td>-0.707902</td>\n",
              "    </tr>\n",
              "    <tr>\n",
              "      <th>47998</th>\n",
              "      <td>-1.357875</td>\n",
              "      <td>0.347406</td>\n",
              "      <td>-1.103775</td>\n",
              "      <td>0.904001</td>\n",
              "      <td>-1.000042</td>\n",
              "      <td>-0.419500</td>\n",
              "      <td>-0.904496</td>\n",
              "      <td>1.223789</td>\n",
              "      <td>2.688688</td>\n",
              "      <td>-0.883598</td>\n",
              "      <td>-0.886480</td>\n",
              "      <td>-0.706477</td>\n",
              "      <td>1.414545</td>\n",
              "      <td>-0.707902</td>\n",
              "    </tr>\n",
              "    <tr>\n",
              "      <th>47999</th>\n",
              "      <td>-1.073103</td>\n",
              "      <td>-0.081640</td>\n",
              "      <td>0.905982</td>\n",
              "      <td>-1.106193</td>\n",
              "      <td>-1.000042</td>\n",
              "      <td>2.383788</td>\n",
              "      <td>-0.904496</td>\n",
              "      <td>-0.817135</td>\n",
              "      <td>-0.371929</td>\n",
              "      <td>1.131736</td>\n",
              "      <td>-0.886480</td>\n",
              "      <td>-0.706477</td>\n",
              "      <td>1.414545</td>\n",
              "      <td>-0.707902</td>\n",
              "    </tr>\n",
              "  </tbody>\n",
              "</table>\n",
              "<p>48000 rows × 14 columns</p>\n",
              "</div>"
            ],
            "text/plain": [
              "             0         1         2   ...        11        12        13\n",
              "0      0.635527 -0.694042  0.905982  ...  1.415474 -0.706941 -0.707902\n",
              "1     -0.788331  0.595313  0.905982  ... -0.706477  1.414545 -0.707902\n",
              "2     -0.503559  4.142097  0.905982  ... -0.706477  1.414545 -0.707902\n",
              "3      1.205071 -0.323173 -1.103775  ... -0.706477 -0.706941  1.412624\n",
              "4     -1.357875  0.131484  0.905982  ... -0.706477 -0.706941  1.412624\n",
              "...         ...       ...       ...  ...       ...       ...       ...\n",
              "47995  0.920299 -0.807988  0.905982  ... -0.706477 -0.706941  1.412624\n",
              "47996 -0.218788  0.087608  0.905982  ...  1.415474 -0.706941 -0.707902\n",
              "47997  1.774614  0.688934 -1.103775  ...  1.415474 -0.706941 -0.707902\n",
              "47998 -1.357875  0.347406 -1.103775  ... -0.706477  1.414545 -0.707902\n",
              "47999 -1.073103 -0.081640  0.905982  ... -0.706477  1.414545 -0.707902\n",
              "\n",
              "[48000 rows x 14 columns]"
            ]
          },
          "metadata": {
            "tags": []
          },
          "execution_count": 221
        }
      ]
    },
    {
      "cell_type": "markdown",
      "metadata": {
        "id": "bb6jCOCQiAmP",
        "colab_type": "text"
      },
      "source": [
        "## Training the Kernel SVM model on the Training set"
      ]
    },
    {
      "cell_type": "code",
      "metadata": {
        "id": "e0pFVAmciHQs",
        "colab_type": "code",
        "outputId": "c051cc9a-b9a6-49c3-ac80-7a98aed951af",
        "colab": {
          "base_uri": "https://localhost:8080/",
          "height": 84
        }
      },
      "source": [
        "from sklearn.svm import SVC\n",
        "classifier = SVC(kernel = 'rbf', random_state = 0)\n",
        "classifier.fit(X_train, y_train)"
      ],
      "execution_count": 0,
      "outputs": [
        {
          "output_type": "execute_result",
          "data": {
            "text/plain": [
              "SVC(C=1.0, break_ties=False, cache_size=200, class_weight=None, coef0=0.0,\n",
              "    decision_function_shape='ovr', degree=3, gamma='scale', kernel='rbf',\n",
              "    max_iter=-1, probability=False, random_state=0, shrinking=True, tol=0.001,\n",
              "    verbose=False)"
            ]
          },
          "metadata": {
            "tags": []
          },
          "execution_count": 222
        }
      ]
    },
    {
      "cell_type": "markdown",
      "metadata": {
        "id": "h4Hwj34ziWQW",
        "colab_type": "text"
      },
      "source": [
        "## Making the Confusion Matrix"
      ]
    },
    {
      "cell_type": "code",
      "metadata": {
        "id": "D6bpZwUiiXic",
        "colab_type": "code",
        "outputId": "b2f8bcb2-3831-419d-ce2e-433f2648070e",
        "colab": {
          "base_uri": "https://localhost:8080/",
          "height": 67
        }
      },
      "source": [
        "from sklearn.metrics import confusion_matrix, accuracy_score\n",
        "y_pred = classifier.predict(X_test)\n",
        "cm = confusion_matrix(y_test, y_pred)\n",
        "print(cm)\n",
        "accuracy_score(y_test, y_pred)"
      ],
      "execution_count": 0,
      "outputs": [
        {
          "output_type": "stream",
          "text": [
            "[[13678     0]\n",
            " [ 2322     0]]\n"
          ],
          "name": "stdout"
        },
        {
          "output_type": "execute_result",
          "data": {
            "text/plain": [
              "0.854875"
            ]
          },
          "metadata": {
            "tags": []
          },
          "execution_count": 223
        }
      ]
    },
    {
      "cell_type": "markdown",
      "metadata": {
        "id": "ng1BBqgYp-DX",
        "colab_type": "text"
      },
      "source": [
        "##Important Feature"
      ]
    },
    {
      "cell_type": "code",
      "metadata": {
        "id": "NrM9tIlnqAsE",
        "colab_type": "code",
        "outputId": "833cd377-c05f-49f2-f568-892ba54b25c0",
        "colab": {
          "base_uri": "https://localhost:8080/",
          "height": 315
        }
      },
      "source": [
        "from sklearn.ensemble import ExtraTreesClassifier\n",
        "import matplotlib.pyplot as plt\n",
        "model = ExtraTreesClassifier()\n",
        "model.fit(X,y)\n",
        "print(model.feature_importances_) \n",
        "feat_importances = pd.Series(model.feature_importances_)\n",
        "feat_importances.nlargest().plot(kind='barh')\n",
        "plt.show()"
      ],
      "execution_count": 0,
      "outputs": [
        {
          "output_type": "stream",
          "text": [
            "[0.11121764 0.83642933 0.00970649 0.00839534 0.00909568 0.00315225\n",
            " 0.00200621 0.00194718 0.00165702 0.00262013 0.00218751 0.00228247\n",
            " 0.00419829 0.00510446]\n"
          ],
          "name": "stdout"
        },
        {
          "output_type": "display_data",
          "data": {
            "image/png": "[encoded data removed]",
            "text/plain": [
              "<Figure size 432x288 with 1 Axes>"
            ]
          },
          "metadata": {
            "tags": [],
            "needs_background": "light"
          }
        }
      ]
    }
  ]
}